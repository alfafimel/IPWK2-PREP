{
  "nbformat": 4,
  "nbformat_minor": 0,
  "metadata": {
    "colab": {
      "name": "\"Moringa_Data_Science_Prep_W2_Independent_Project_2020_06_Elizabeth_JOSEPHINE_SQL_Notebook\"",
      "provenance": [],
      "collapsed_sections": [],
      "authorship_tag": "ABX9TyPXP28OVhZj9NYF7FfxCpSU",
      "include_colab_link": true
    },
    "kernelspec": {
      "name": "python3",
      "display_name": "Python 3"
    }
  },
  "cells": [
    {
      "cell_type": "markdown",
      "metadata": {
        "id": "view-in-github",
        "colab_type": "text"
      },
      "source": [
        "<a href=\"https://colab.research.google.com/github/alfafimel/IPWK2-PREP/blob/master/%22Moringa_Data_Science_Prep_W2_Independent_Project_2020_06_Elizabeth_JOSEPHINE_SQL_Notebook%22.ipynb\" target=\"_parent\"><img src=\"https://colab.research.google.com/assets/colab-badge.svg\" alt=\"Open In Colab\"/></a>"
      ]
    },
    {
      "cell_type": "code",
      "metadata": {
        "id": "V6AvQ63EOfuR",
        "colab_type": "code",
        "colab": {
          "base_uri": "https://localhost:8080/",
          "height": 35
        },
        "outputId": "575ec111-1132-44a2-a9e9-4f5c65cf1e06"
      },
      "source": [
        "# loading the sql extension into our enc=vironment\n",
        "%load_ext sql\n",
        "\n",
        "# connecting to the in memory sqlite database\n",
        "%sql sqlite://"
      ],
      "execution_count": null,
      "outputs": [
        {
          "output_type": "execute_result",
          "data": {
            "application/vnd.google.colaboratory.intrinsic": {
              "type": "string"
            },
            "text/plain": [
              "'Connected: @None'"
            ]
          },
          "metadata": {
            "tags": []
          },
          "execution_count": 1
        }
      ]
    },
    {
      "cell_type": "code",
      "metadata": {
        "id": "DCKwSQeLOl3r",
        "colab_type": "code",
        "colab": {}
      },
      "source": [
        "# importing the required python libraries for this notebook\n",
        "#\n",
        "import pandas as pd"
      ],
      "execution_count": null,
      "outputs": []
    },
    {
      "cell_type": "code",
      "metadata": {
        "id": "ODNiJBh6OrVT",
        "colab_type": "code",
        "colab": {
          "base_uri": "https://localhost:8080/",
          "height": 86
        },
        "outputId": "3ce05708-fbe8-49b3-c6e9-feafec775caf"
      },
      "source": [
        "# from a local csv file, we load the table to be in use\n",
        "#\n",
        "with open('GrandElectors_by_state.csv','r') as f:\n",
        "  grandel = pd.read_csv(f, index_col=0, encoding='utf-8')\n",
        "\n",
        "# then storing this tble n an SQL table of our in memory sqlite database\n",
        "#\n",
        "%sql DROP TABLE if EXISTS grandel;\n",
        "%sql PERSIST grandel;"
      ],
      "execution_count": null,
      "outputs": [
        {
          "output_type": "stream",
          "text": [
            " * sqlite://\n",
            "Done.\n",
            " * sqlite://\n"
          ],
          "name": "stdout"
        },
        {
          "output_type": "execute_result",
          "data": {
            "application/vnd.google.colaboratory.intrinsic": {
              "type": "string"
            },
            "text/plain": [
              "'Persisted grandel'"
            ]
          },
          "metadata": {
            "tags": []
          },
          "execution_count": 3
        }
      ]
    },
    {
      "cell_type": "code",
      "metadata": {
        "id": "3zmrpBJvOsUz",
        "colab_type": "code",
        "colab": {
          "base_uri": "https://localhost:8080/",
          "height": 86
        },
        "outputId": "c0a53f24-efd2-4fba-c504-050cf6f20de2"
      },
      "source": [
        "# from a local csv file, we load the table to be in use\n",
        "#\n",
        "with open('Population_by_state.csv','r') as f:\n",
        "  popula = pd.read_csv(f, index_col=0, encoding='utf-8')\n",
        "\n",
        "# then storing this tble n an SQL table of our in memory sqlite database\n",
        "#\n",
        "%sql DROP TABLE if EXISTS popula;\n",
        "%sql PERSIST popula;"
      ],
      "execution_count": null,
      "outputs": [
        {
          "output_type": "stream",
          "text": [
            " * sqlite://\n",
            "Done.\n",
            " * sqlite://\n"
          ],
          "name": "stdout"
        },
        {
          "output_type": "execute_result",
          "data": {
            "application/vnd.google.colaboratory.intrinsic": {
              "type": "string"
            },
            "text/plain": [
              "'Persisted popula'"
            ]
          },
          "metadata": {
            "tags": []
          },
          "execution_count": 4
        }
      ]
    },
    {
      "cell_type": "code",
      "metadata": {
        "id": "5FOXv23pOu-D",
        "colab_type": "code",
        "colab": {
          "base_uri": "https://localhost:8080/",
          "height": 68
        },
        "outputId": "bdaf7fac-f22c-4bef-c2c2-61d3d8135f36"
      },
      "source": [
        "# converting all the states to uppercase\n",
        "%%sql\n",
        "UPDATE grandel SET State = UPPER(State);"
      ],
      "execution_count": null,
      "outputs": [
        {
          "output_type": "stream",
          "text": [
            " * sqlite://\n",
            "51 rows affected.\n"
          ],
          "name": "stdout"
        },
        {
          "output_type": "execute_result",
          "data": {
            "text/plain": [
              "[]"
            ]
          },
          "metadata": {
            "tags": []
          },
          "execution_count": 5
        }
      ]
    },
    {
      "cell_type": "code",
      "metadata": {
        "id": "8VPMmnCAO1Hr",
        "colab_type": "code",
        "colab": {
          "base_uri": "https://localhost:8080/",
          "height": 1000
        },
        "outputId": "a3b5d3fd-af6e-4fef-812d-139a3ba1d33c"
      },
      "source": [
        "# joining the tables on the state key\n",
        "%%sql\n",
        "SELECT grandel.State\n",
        "FROM grandel INNER JOIN popula\n",
        "      ON grandel.State = popula.State\n",
        "ORDER BY grandel.State"
      ],
      "execution_count": null,
      "outputs": [
        {
          "output_type": "stream",
          "text": [
            " * sqlite://\n",
            "Done.\n"
          ],
          "name": "stdout"
        },
        {
          "output_type": "execute_result",
          "data": {
            "text/html": [
              "<table>\n",
              "    <tr>\n",
              "        <th>State</th>\n",
              "    </tr>\n",
              "    <tr>\n",
              "        <td>ALABAMA</td>\n",
              "    </tr>\n",
              "    <tr>\n",
              "        <td>ALASKA</td>\n",
              "    </tr>\n",
              "    <tr>\n",
              "        <td>ARIZONA</td>\n",
              "    </tr>\n",
              "    <tr>\n",
              "        <td>ARKANSAS</td>\n",
              "    </tr>\n",
              "    <tr>\n",
              "        <td>CALIFORNIA</td>\n",
              "    </tr>\n",
              "    <tr>\n",
              "        <td>COLORADO</td>\n",
              "    </tr>\n",
              "    <tr>\n",
              "        <td>CONNECTICUT</td>\n",
              "    </tr>\n",
              "    <tr>\n",
              "        <td>DELAWARE</td>\n",
              "    </tr>\n",
              "    <tr>\n",
              "        <td>DISTRICT OF COLUMBIA</td>\n",
              "    </tr>\n",
              "    <tr>\n",
              "        <td>FLORIDA</td>\n",
              "    </tr>\n",
              "    <tr>\n",
              "        <td>GEORGIA</td>\n",
              "    </tr>\n",
              "    <tr>\n",
              "        <td>HAWAII</td>\n",
              "    </tr>\n",
              "    <tr>\n",
              "        <td>IDAHO</td>\n",
              "    </tr>\n",
              "    <tr>\n",
              "        <td>ILLINOIS</td>\n",
              "    </tr>\n",
              "    <tr>\n",
              "        <td>INDIANA</td>\n",
              "    </tr>\n",
              "    <tr>\n",
              "        <td>IOWA</td>\n",
              "    </tr>\n",
              "    <tr>\n",
              "        <td>KANSAS</td>\n",
              "    </tr>\n",
              "    <tr>\n",
              "        <td>KENTUCKY</td>\n",
              "    </tr>\n",
              "    <tr>\n",
              "        <td>LOUISIANA</td>\n",
              "    </tr>\n",
              "    <tr>\n",
              "        <td>MAINE</td>\n",
              "    </tr>\n",
              "    <tr>\n",
              "        <td>MARYLAND</td>\n",
              "    </tr>\n",
              "    <tr>\n",
              "        <td>MASSACHUSETTS</td>\n",
              "    </tr>\n",
              "    <tr>\n",
              "        <td>MICHIGAN</td>\n",
              "    </tr>\n",
              "    <tr>\n",
              "        <td>MINNESOTA</td>\n",
              "    </tr>\n",
              "    <tr>\n",
              "        <td>MISSISSIPPI</td>\n",
              "    </tr>\n",
              "    <tr>\n",
              "        <td>MISSOURI</td>\n",
              "    </tr>\n",
              "    <tr>\n",
              "        <td>MONTANA</td>\n",
              "    </tr>\n",
              "    <tr>\n",
              "        <td>NEBRASKA</td>\n",
              "    </tr>\n",
              "    <tr>\n",
              "        <td>NEVADA</td>\n",
              "    </tr>\n",
              "    <tr>\n",
              "        <td>NEW HAMPSHIRE</td>\n",
              "    </tr>\n",
              "    <tr>\n",
              "        <td>NEW JERSEY</td>\n",
              "    </tr>\n",
              "    <tr>\n",
              "        <td>NEW MEXICO</td>\n",
              "    </tr>\n",
              "    <tr>\n",
              "        <td>NEW YORK</td>\n",
              "    </tr>\n",
              "    <tr>\n",
              "        <td>NORTH CAROLINA</td>\n",
              "    </tr>\n",
              "    <tr>\n",
              "        <td>NORTH DAKOTA</td>\n",
              "    </tr>\n",
              "    <tr>\n",
              "        <td>OHIO</td>\n",
              "    </tr>\n",
              "    <tr>\n",
              "        <td>OKLAHOMA</td>\n",
              "    </tr>\n",
              "    <tr>\n",
              "        <td>OREGON</td>\n",
              "    </tr>\n",
              "    <tr>\n",
              "        <td>PENNSYLVANIA</td>\n",
              "    </tr>\n",
              "    <tr>\n",
              "        <td>RHODE ISLAND</td>\n",
              "    </tr>\n",
              "    <tr>\n",
              "        <td>SOUTH CAROLINA</td>\n",
              "    </tr>\n",
              "    <tr>\n",
              "        <td>SOUTH DAKOTA</td>\n",
              "    </tr>\n",
              "    <tr>\n",
              "        <td>TENNESSEE</td>\n",
              "    </tr>\n",
              "    <tr>\n",
              "        <td>TEXAS</td>\n",
              "    </tr>\n",
              "    <tr>\n",
              "        <td>UTAH</td>\n",
              "    </tr>\n",
              "    <tr>\n",
              "        <td>VERMONT</td>\n",
              "    </tr>\n",
              "    <tr>\n",
              "        <td>VIRGINIA</td>\n",
              "    </tr>\n",
              "    <tr>\n",
              "        <td>WASHINGTON</td>\n",
              "    </tr>\n",
              "    <tr>\n",
              "        <td>WEST VIRGINIA</td>\n",
              "    </tr>\n",
              "    <tr>\n",
              "        <td>WISCONSIN</td>\n",
              "    </tr>\n",
              "    <tr>\n",
              "        <td>WYOMING</td>\n",
              "    </tr>\n",
              "</table>"
            ],
            "text/plain": [
              "[('ALABAMA',),\n",
              " ('ALASKA',),\n",
              " ('ARIZONA',),\n",
              " ('ARKANSAS',),\n",
              " ('CALIFORNIA',),\n",
              " ('COLORADO',),\n",
              " ('CONNECTICUT',),\n",
              " ('DELAWARE',),\n",
              " ('DISTRICT OF COLUMBIA',),\n",
              " ('FLORIDA',),\n",
              " ('GEORGIA',),\n",
              " ('HAWAII',),\n",
              " ('IDAHO',),\n",
              " ('ILLINOIS',),\n",
              " ('INDIANA',),\n",
              " ('IOWA',),\n",
              " ('KANSAS',),\n",
              " ('KENTUCKY',),\n",
              " ('LOUISIANA',),\n",
              " ('MAINE',),\n",
              " ('MARYLAND',),\n",
              " ('MASSACHUSETTS',),\n",
              " ('MICHIGAN',),\n",
              " ('MINNESOTA',),\n",
              " ('MISSISSIPPI',),\n",
              " ('MISSOURI',),\n",
              " ('MONTANA',),\n",
              " ('NEBRASKA',),\n",
              " ('NEVADA',),\n",
              " ('NEW HAMPSHIRE',),\n",
              " ('NEW JERSEY',),\n",
              " ('NEW MEXICO',),\n",
              " ('NEW YORK',),\n",
              " ('NORTH CAROLINA',),\n",
              " ('NORTH DAKOTA',),\n",
              " ('OHIO',),\n",
              " ('OKLAHOMA',),\n",
              " ('OREGON',),\n",
              " ('PENNSYLVANIA',),\n",
              " ('RHODE ISLAND',),\n",
              " ('SOUTH CAROLINA',),\n",
              " ('SOUTH DAKOTA',),\n",
              " ('TENNESSEE',),\n",
              " ('TEXAS',),\n",
              " ('UTAH',),\n",
              " ('VERMONT',),\n",
              " ('VIRGINIA',),\n",
              " ('WASHINGTON',),\n",
              " ('WEST VIRGINIA',),\n",
              " ('WISCONSIN',),\n",
              " ('WYOMING',)]"
            ]
          },
          "metadata": {
            "tags": []
          },
          "execution_count": 6
        }
      ]
    },
    {
      "cell_type": "code",
      "metadata": {
        "id": "lu8Yk1qwO5lf",
        "colab_type": "code",
        "colab": {
          "base_uri": "https://localhost:8080/",
          "height": 68
        },
        "outputId": "abf85d7b-e307-441f-e021-645f440afbe0"
      },
      "source": [
        "# changing the name of an element\n",
        "%%sql\n",
        "UPDATE grandel\n",
        "SET State = 'DC'\n",
        "WHERE State = \"DISTRICT OF COLUMBIA\";"
      ],
      "execution_count": null,
      "outputs": [
        {
          "output_type": "stream",
          "text": [
            " * sqlite://\n",
            "1 rows affected.\n"
          ],
          "name": "stdout"
        },
        {
          "output_type": "execute_result",
          "data": {
            "text/plain": [
              "[]"
            ]
          },
          "metadata": {
            "tags": []
          },
          "execution_count": 7
        }
      ]
    },
    {
      "cell_type": "code",
      "metadata": {
        "id": "-Rq1fMQN7v7N",
        "colab_type": "code",
        "colab": {
          "base_uri": "https://localhost:8080/",
          "height": 68
        },
        "outputId": "a047d23c-ae95-4856-9ca9-721c44c855b6"
      },
      "source": [
        "# creating a new column ratio\n",
        "%%sql\n",
        "ALTER TABLE popula\n",
        "ADD ratio int;"
      ],
      "execution_count": null,
      "outputs": [
        {
          "output_type": "stream",
          "text": [
            " * sqlite://\n",
            "Done.\n"
          ],
          "name": "stdout"
        },
        {
          "output_type": "execute_result",
          "data": {
            "text/plain": [
              "[]"
            ]
          },
          "metadata": {
            "tags": []
          },
          "execution_count": 8
        }
      ]
    },
    {
      "cell_type": "code",
      "metadata": {
        "id": "ZLFRM-my-Qrt",
        "colab_type": "code",
        "colab": {
          "base_uri": "https://localhost:8080/",
          "height": 74
        },
        "outputId": "62d9743a-bf75-41be-da89-873160ddf9de"
      },
      "source": [
        "# To compute the ratio between the number of grand electors and the population. \n",
        "#Please create a new column with that ratio.\n",
        "%%sql\n",
        "SELECT ratio \n",
        "FROM grandel INNER JOIN popula\n",
        "      ON grandel.State = popula.State\n",
        "WHERE \n",
        "  ratio = (GrandElectors / Population)\n",
        "  ORDER BY grandel.State DESC;"
      ],
      "execution_count": null,
      "outputs": [
        {
          "output_type": "stream",
          "text": [
            " * sqlite://\n",
            "Done.\n"
          ],
          "name": "stdout"
        },
        {
          "output_type": "execute_result",
          "data": {
            "text/html": [
              "<table>\n",
              "    <tr>\n",
              "        <th>ratio</th>\n",
              "    </tr>\n",
              "</table>"
            ],
            "text/plain": [
              "[]"
            ]
          },
          "metadata": {
            "tags": []
          },
          "execution_count": 9
        }
      ]
    },
    {
      "cell_type": "code",
      "metadata": {
        "id": "t3xE7k064Onn",
        "colab_type": "code",
        "colab": {
          "base_uri": "https://localhost:8080/",
          "height": 74
        },
        "outputId": "82577a83-23bb-41d1-aed4-a441fe431f50"
      },
      "source": [
        "#To order the states by decreasing ratio of Grand Electors per capita. \n",
        "#That will make our priority list.\n",
        "%%sql\n",
        "SELECT ratio \n",
        "FROM grandel INNER JOIN popula\n",
        "      ON grandel.State = popula.State\n",
        "WHERE \n",
        "  ratio = (GrandElectors / Population)\n",
        "  ORDER BY ratio DESC;"
      ],
      "execution_count": null,
      "outputs": [
        {
          "output_type": "stream",
          "text": [
            " * sqlite://\n",
            "Done.\n"
          ],
          "name": "stdout"
        },
        {
          "output_type": "execute_result",
          "data": {
            "text/html": [
              "<table>\n",
              "    <tr>\n",
              "        <th>ratio</th>\n",
              "    </tr>\n",
              "</table>"
            ],
            "text/plain": [
              "[]"
            ]
          },
          "metadata": {
            "tags": []
          },
          "execution_count": 10
        }
      ]
    },
    {
      "cell_type": "code",
      "metadata": {
        "id": "ozyJEM5N4T32",
        "colab_type": "code",
        "colab": {}
      },
      "source": [
        "# To compute the running total of Grand Electors in that sorted list.\n",
        "%%sql\n",
        "SELECT GrandElectors\n",
        "SUM (\"GrandElectors\") OVER (ORDER BY 'ratio') AS RunningTotal\n",
        "FROM grandel INNER JOIN popula\n",
        "      ON grandel.State = popula.State;"
      ],
      "execution_count": null,
      "outputs": []
    },
    {
      "cell_type": "code",
      "metadata": {
        "id": "tUlASjNo4Xbe",
        "colab_type": "code",
        "colab": {}
      },
      "source": [
        "# Independently, to compute the half of the total of Grand Electors overall (in the whole country):"
      ],
      "execution_count": null,
      "outputs": []
    },
    {
      "cell_type": "code",
      "metadata": {
        "id": "3T6bjsMV4clm",
        "colab_type": "code",
        "colab": {}
      },
      "source": [
        "# To filter our sorted list of states in order to keep only the (top) ones \n",
        "# enabling us to reach the computed threshold. (the other states can be ignored). \n",
        "# That is our target list."
      ],
      "execution_count": null,
      "outputs": []
    }
  ]
}