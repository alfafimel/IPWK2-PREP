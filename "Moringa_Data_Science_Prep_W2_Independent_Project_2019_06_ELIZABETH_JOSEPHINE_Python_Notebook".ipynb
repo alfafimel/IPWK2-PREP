{
  "nbformat": 4,
  "nbformat_minor": 0,
  "metadata": {
    "colab": {
      "name": "\"Moringa_Data_Science_Prep_W2_Independent_Project_2019_06_ELIZABETH_JOSEPHINE_Python_Notebook\"",
      "provenance": [],
      "collapsed_sections": [],
      "authorship_tag": "ABX9TyPY/3IclD6EwbkzBc+9rL2D",
      "include_colab_link": true
    },
    "kernelspec": {
      "name": "python3",
      "display_name": "Python 3"
    }
  },
  "cells": [
    {
      "cell_type": "markdown",
      "metadata": {
        "id": "view-in-github",
        "colab_type": "text"
      },
      "source": [
        "<a href=\"https://colab.research.google.com/github/alfafimel/IPWK2-PREP/blob/master/%22Moringa_Data_Science_Prep_W2_Independent_Project_2019_06_ELIZABETH_JOSEPHINE_Python_Notebook%22.ipynb\" target=\"_parent\"><img src=\"https://colab.research.google.com/assets/colab-badge.svg\" alt=\"Open In Colab\"/></a>"
      ]
    },
    {
      "cell_type": "code",
      "metadata": {
        "id": "3CpSlnqpaBfW",
        "colab_type": "code",
        "colab": {}
      },
      "source": [
        "contact_book = {'Parul' : 'parul@moringa.org',\n",
        "\n",
        "        'Thomas' : 'thomas@moringa.org',\n",
        "\n",
        "        'Ashley' : 'ashley@moringa.org',\n",
        "\n",
        "        'Kellen' : 'kellen@moringa.org',\n",
        "\n",
        "        'June' : 'june@moringa.org',\n",
        "\n",
        "        'Joseph' : 'joe@moringa.org',\n",
        "\n",
        "        'Lillian' : 'lillian@moringa.org',\n",
        "\n",
        "        'Arnold' : 'arnold@moringa.org' \n",
        "}"
      ],
      "execution_count": null,
      "outputs": []
    },
    {
      "cell_type": "code",
      "metadata": {
        "id": "kHWf3U5CaHmE",
        "colab_type": "code",
        "colab": {
          "base_uri": "https://localhost:8080/",
          "height": 34
        },
        "outputId": "fade9bf9-8dfd-4b09-e7c4-76e87ed0f8d2"
      },
      "source": [
        "# Delete a contact from the dictionary when the user specifies the its key\n",
        "# removing the contact parul from contact_book dictionary\n",
        "\n",
        "updated_contact_book = contact_book.pop(\"Parul\")\n",
        "print(updated_contact_book)"
      ],
      "execution_count": null,
      "outputs": [
        {
          "output_type": "stream",
          "text": [
            "parul@moringa.org\n"
          ],
          "name": "stdout"
        }
      ]
    },
    {
      "cell_type": "code",
      "metadata": {
        "id": "Sr0q-IDabBDJ",
        "colab_type": "code",
        "colab": {
          "base_uri": "https://localhost:8080/",
          "height": 34
        },
        "outputId": "963182da-5cfc-4685-f8a6-a833b2e3b4be"
      },
      "source": [
        "# Print out the first 2 contacts.\n",
        "contact_book_items = contact_book.items()\n",
        "first_two = list(contact_book_items)[:2]\n",
        "print(first_two)"
      ],
      "execution_count": null,
      "outputs": [
        {
          "output_type": "stream",
          "text": [
            "[('Thomas', 'thomas@moringa.org'), ('Ashley', 'ashley@moringa.org')]\n"
          ],
          "name": "stdout"
        }
      ]
    },
    {
      "cell_type": "code",
      "metadata": {
        "id": "PLEdPoA9a2QN",
        "colab_type": "code",
        "colab": {
          "base_uri": "https://localhost:8080/",
          "height": 34
        },
        "outputId": "c2050b47-735c-4187-c53e-ab6331a8883c"
      },
      "source": [
        "# Display the total no. of contacts left in the dictionary.\n",
        "print(len(contact_book))"
      ],
      "execution_count": null,
      "outputs": [
        {
          "output_type": "stream",
          "text": [
            "7\n"
          ],
          "name": "stdout"
        }
      ]
    },
    {
      "cell_type": "code",
      "metadata": {
        "id": "zRychHVKa-qM",
        "colab_type": "code",
        "colab": {
          "base_uri": "https://localhost:8080/",
          "height": 54
        },
        "outputId": "bc1ff4d0-7ec9-4d4d-dc46-1bc585ebf302"
      },
      "source": [
        "# Add 2 new contacts in the dictionary.\n",
        "# adding contacts mercy and alberta\n",
        "contact_book['Mercy'] = 'mercy@moringa.org'\n",
        "contact_book['alberta'] = 'alberta@moringa.org'\n",
        "print(\"new contact_book is: \", contact_book)"
      ],
      "execution_count": null,
      "outputs": [
        {
          "output_type": "stream",
          "text": [
            "new contact_book is:  {'Thomas': 'thomas@moringa.org', 'Ashley': 'ashley@moringa.org', 'Kellen': 'kellen@moringa.org', 'June': 'june@moringa.org', 'Joseph': 'joe@moringa.org', 'Lillian': 'lillian@moringa.org', 'Arnold': 'arnold@moringa.org', 'Mercy': 'mercy@moringa.org', 'alberta': 'alberta@moringa.org'}\n"
          ],
          "name": "stdout"
        }
      ]
    },
    {
      "cell_type": "code",
      "metadata": {
        "id": "HGCTC4vZbIMW",
        "colab_type": "code",
        "colab": {
          "base_uri": "https://localhost:8080/",
          "height": 54
        },
        "outputId": "525d625a-b7e0-4790-ddc8-b9cebd6e8734"
      },
      "source": [
        "# Print out all the contacts.\n",
        "print(contact_book)"
      ],
      "execution_count": null,
      "outputs": [
        {
          "output_type": "stream",
          "text": [
            "{'Thomas': 'thomas@moringa.org', 'Ashley': 'ashley@moringa.org', 'Kellen': 'kellen@moringa.org', 'June': 'june@moringa.org', 'Joseph': 'joe@moringa.org', 'Lillian': 'lillian@moringa.org', 'Arnold': 'arnold@moringa.org', 'Mercy': 'mercy@moringa.org', 'alberta': 'alberta@moringa.org'}\n"
          ],
          "name": "stdout"
        }
      ]
    },
    {
      "cell_type": "markdown",
      "metadata": {
        "id": "VMNpExiCaUc-",
        "colab_type": "text"
      },
      "source": [
        "You will write python code that performs the following procedures\n",
        "\n",
        "Delete a contact from the dictionary when the user specifies the its key\n",
        "\n",
        "Print out the first 2 contacts.\n",
        "\n",
        "Display the total no. of contacts left in the dictionary.\n",
        "\n",
        "Add 2 new contacts in the dictionary. \n",
        "\n",
        "Print out all the contacts."
      ]
    }
  ]
}